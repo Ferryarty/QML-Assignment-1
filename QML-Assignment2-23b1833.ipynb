{
 "cells": [
  {
   "cell_type": "code",
   "execution_count": 41,
   "metadata": {},
   "outputs": [],
   "source": [
    "import numpy as np\n",
    "from qiskit.circuit.library import EfficientSU2\n",
    "from qiskit.quantum_info import SparsePauliOp\n",
    "from scipy.optimize import minimize\n",
    "import matplotlib.pyplot as plt\n",
    "from qiskit_ibm_runtime import Session\n",
    "from qiskit_ibm_runtime import EstimatorV2 as Estimator\n",
    "from qiskit_aer import AerSimulator"
   ]
  },
  {
   "cell_type": "code",
   "execution_count": 42,
   "metadata": {},
   "outputs": [],
   "source": [
    "hamiltonian = SparsePauliOp.from_list([(\"XX\",1), (\"YY\", 1), (\"ZI\", 1)])"
   ]
  },
  {
   "cell_type": "markdown",
   "metadata": {},
   "source": [
    "Here, I've prepared the required hamiltonian"
   ]
  },
  {
   "cell_type": "code",
   "execution_count": 43,
   "metadata": {},
   "outputs": [
    {
     "name": "stdout",
     "output_type": "stream",
     "text": [
      "SparsePauliOp(['XX', 'YY', 'ZI'],\n",
      "              coeffs=[1.+0.j, 1.+0.j, 1.+0.j])\n"
     ]
    }
   ],
   "source": [
    "print(hamiltonian)"
   ]
  },
  {
   "cell_type": "markdown",
   "metadata": {},
   "source": [
    "***"
   ]
  },
  {
   "cell_type": "code",
   "execution_count": 44,
   "metadata": {},
   "outputs": [],
   "source": [
    "ansatz = EfficientSU2(hamiltonian.num_qubits, entanglement=\"linear\", reps= 1)"
   ]
  },
  {
   "cell_type": "markdown",
   "metadata": {},
   "source": [
    "Here, I've used the EfficientSU2 function to make a generalized ansatz using rotational gates and CNOT gates. As we can see below our circuit uses Ry and Rz gates along with a CNOT gate. In total we have 8 parameters (8 diffrent theta) which we can vary to minimize the eigenvalue and approch the ground state eigenfunction."
   ]
  },
  {
   "cell_type": "code",
   "execution_count": 45,
   "metadata": {},
   "outputs": [
    {
     "data": {
      "image/png": "[encoded data removed]",
      "text/plain": [
       "<Figure size 538.128x200.667 with 1 Axes>"
      ]
     },
     "execution_count": 45,
     "metadata": {},
     "output_type": "execute_result"
    }
   ],
   "source": [
    "ansatz.decompose().draw(\"mpl\", style=\"iqp\")"
   ]
  },
  {
   "cell_type": "code",
   "execution_count": 46,
   "metadata": {},
   "outputs": [
    {
     "name": "stdout",
     "output_type": "stream",
     "text": [
      "8\n"
     ]
    }
   ],
   "source": [
    "print(ansatz.num_parameters)"
   ]
  },
  {
   "cell_type": "markdown",
   "metadata": {},
   "source": [
    "***"
   ]
  },
  {
   "cell_type": "code",
   "execution_count": 47,
   "metadata": {},
   "outputs": [],
   "source": [
    "cost_history_dict = {\n",
    "    \"prev_vector\": None,\n",
    "    \"iters\": 0,\n",
    "    \"cost_history\": [],\n",
    "}"
   ]
  },
  {
   "cell_type": "markdown",
   "metadata": {},
   "source": [
    "Here I have made a dictionary to keep track of our optimization process"
   ]
  },
  {
   "cell_type": "code",
   "execution_count": 48,
   "metadata": {},
   "outputs": [],
   "source": [
    "def cost_func(params, ansatz, hamiltonian, estimator):\n",
    "    pub = (ansatz, [hamiltonian], [params])\n",
    "    result = estimator.run(pubs=[pub]).result()\n",
    "    energy = result[0].data.evs[0]\n",
    "\n",
    "    cost_history_dict[\"iters\"] += 1\n",
    "    cost_history_dict[\"prev_vector\"] = params\n",
    "    cost_history_dict[\"cost_history\"].append(energy)\n",
    "    print(f\"Iters. done: {cost_history_dict['iters']} [Current cost: {energy}]\")\n",
    "\n",
    "    return energy"
   ]
  },
  {
   "cell_type": "markdown",
   "metadata": {},
   "source": [
    "Above is our cost function the returns the expectation value of the trial wavefunction for our chosen hamiltonian."
   ]
  },
  {
   "cell_type": "markdown",
   "metadata": {},
   "source": [
    "***\n",
    "Here I have initialized the 8 parameter values to random values"
   ]
  },
  {
   "cell_type": "code",
   "execution_count": 50,
   "metadata": {},
   "outputs": [],
   "source": [
    "x0 = 2 * np.pi * np.random.random(ansatz.num_parameters)"
   ]
  },
  {
   "cell_type": "code",
   "execution_count": 51,
   "metadata": {},
   "outputs": [
    {
     "data": {
      "text/plain": [
       "array([4.58200882, 3.08612862, 5.55252503, 1.60722265, 0.89141802,\n",
       "       3.25516181, 1.3823014 , 3.88614992])"
      ]
     },
     "execution_count": 51,
     "metadata": {},
     "output_type": "execute_result"
    }
   ],
   "source": [
    "x0"
   ]
  },
  {
   "cell_type": "code",
   "execution_count": 52,
   "metadata": {},
   "outputs": [],
   "source": [
    "aer_sim = AerSimulator()"
   ]
  },
  {
   "cell_type": "markdown",
   "metadata": {},
   "source": [
    "Below I have used the AER simulator as the backend for running the Estimator function that calculates the exceptation value of the hamiltonian for our trial wavefunction and act as the cost function for the QVE. For the classical optimizer I have used COBYLA."
   ]
  },
  {
   "cell_type": "code",
   "execution_count": 54,
   "metadata": {},
   "outputs": [
    {
     "name": "stdout",
     "output_type": "stream",
     "text": [
      "Iters. done: 1 [Current cost: -0.1658]\n",
      "Iters. done: 2 [Current cost: 0.7074]\n",
      "Iters. done: 3 [Current cost: -0.02260000000000001]\n",
      "Iters. done: 4 [Current cost: 0.10519999999999996]\n",
      "Iters. done: 5 [Current cost: -0.14]\n",
      "Iters. done: 6 [Current cost: -0.03240000000000001]\n",
      "Iters. done: 7 [Current cost: -0.1488]\n",
      "Iters. done: 8 [Current cost: -0.4338]\n",
      "Iters. done: 9 [Current cost: -0.13599999999999995]\n",
      "Iters. done: 10 [Current cost: -1.053]\n",
      "Iters. done: 11 [Current cost: -0.9166000000000001]\n",
      "Iters. done: 12 [Current cost: -0.9927999999999999]\n",
      "Iters. done: 13 [Current cost: -1.0146000000000002]\n",
      "Iters. done: 14 [Current cost: -1.0134]\n",
      "Iters. done: 15 [Current cost: -1.087]\n",
      "Iters. done: 16 [Current cost: -0.9508]\n",
      "Iters. done: 17 [Current cost: -0.9288]\n",
      "Iters. done: 18 [Current cost: -1.1543999999999999]\n",
      "Iters. done: 19 [Current cost: -0.8798]\n",
      "Iters. done: 20 [Current cost: -1.0806]\n",
      "Iters. done: 21 [Current cost: -1.2964]\n",
      "Iters. done: 22 [Current cost: -1.365]\n",
      "Iters. done: 23 [Current cost: -1.2875999999999999]\n",
      "Iters. done: 24 [Current cost: -1.5817999999999999]\n",
      "Iters. done: 25 [Current cost: -1.6242]\n",
      "Iters. done: 26 [Current cost: -1.5861999999999998]\n",
      "Iters. done: 27 [Current cost: -1.316]\n",
      "Iters. done: 28 [Current cost: -1.5438]\n",
      "Iters. done: 29 [Current cost: -1.7358]\n",
      "Iters. done: 30 [Current cost: -1.8567999999999998]\n",
      "Iters. done: 31 [Current cost: -1.9834]\n",
      "Iters. done: 32 [Current cost: -2.0749999999999997]\n",
      "Iters. done: 33 [Current cost: -1.7882]\n",
      "Iters. done: 34 [Current cost: -1.9842]\n",
      "Iters. done: 35 [Current cost: -2.1184]\n",
      "Iters. done: 36 [Current cost: -2.0996]\n",
      "Iters. done: 37 [Current cost: -2.088]\n",
      "Iters. done: 38 [Current cost: -2.0358]\n",
      "Iters. done: 39 [Current cost: -2.0896]\n",
      "Iters. done: 40 [Current cost: -2.0831999999999997]\n",
      "Iters. done: 41 [Current cost: -2.1326]\n",
      "Iters. done: 42 [Current cost: -2.1632000000000002]\n",
      "Iters. done: 43 [Current cost: -2.149]\n",
      "Iters. done: 44 [Current cost: -2.1364]\n",
      "Iters. done: 45 [Current cost: -2.1242]\n",
      "Iters. done: 46 [Current cost: -2.154]\n",
      "Iters. done: 47 [Current cost: -2.1338]\n",
      "Iters. done: 48 [Current cost: -2.1464000000000003]\n",
      "Iters. done: 49 [Current cost: -2.1616]\n",
      "Iters. done: 50 [Current cost: -2.1642]\n",
      "Iters. done: 51 [Current cost: -2.1679999999999997]\n",
      "Iters. done: 52 [Current cost: -2.1612]\n",
      "Iters. done: 53 [Current cost: -2.1664]\n",
      "Iters. done: 54 [Current cost: -2.1672]\n",
      "Iters. done: 55 [Current cost: -2.148]\n",
      "Iters. done: 56 [Current cost: -2.1696]\n",
      "Iters. done: 57 [Current cost: -2.1568]\n",
      "Iters. done: 58 [Current cost: -2.1608]\n",
      "Iters. done: 59 [Current cost: -2.1832]\n",
      "Iters. done: 60 [Current cost: -2.1740000000000004]\n",
      "Iters. done: 61 [Current cost: -2.1668000000000003]\n",
      "Iters. done: 62 [Current cost: -2.1578]\n",
      "Iters. done: 63 [Current cost: -2.1654]\n",
      "Iters. done: 64 [Current cost: -2.172]\n",
      "Iters. done: 65 [Current cost: -2.1574]\n",
      "Iters. done: 66 [Current cost: -2.1678]\n",
      "Iters. done: 67 [Current cost: -2.1616]\n",
      "Iters. done: 68 [Current cost: -2.152]\n",
      "Iters. done: 69 [Current cost: -2.1660000000000004]\n",
      "Iters. done: 70 [Current cost: -2.1708]\n",
      "Iters. done: 71 [Current cost: -2.1606]\n",
      "Iters. done: 72 [Current cost: -2.1674]\n",
      "Iters. done: 73 [Current cost: -2.164]\n",
      "Iters. done: 74 [Current cost: -2.1702]\n",
      "Iters. done: 75 [Current cost: -2.1534]\n",
      "Iters. done: 76 [Current cost: -2.1525999999999996]\n",
      "Iters. done: 77 [Current cost: -2.1466]\n",
      "Iters. done: 78 [Current cost: -2.1602]\n",
      "Iters. done: 79 [Current cost: -2.1882]\n",
      "Iters. done: 80 [Current cost: -2.1592000000000002]\n",
      "Iters. done: 81 [Current cost: -2.1434]\n",
      "Iters. done: 82 [Current cost: -2.1572]\n",
      "Iters. done: 83 [Current cost: -2.1936]\n",
      "Iters. done: 84 [Current cost: -2.1776]\n",
      "Iters. done: 85 [Current cost: -2.1532]\n",
      "Iters. done: 86 [Current cost: -2.157]\n",
      "Iters. done: 87 [Current cost: -2.162]\n",
      "Iters. done: 88 [Current cost: -2.1536]\n",
      "Iters. done: 89 [Current cost: -2.1778]\n",
      "Iters. done: 90 [Current cost: -2.1574]\n",
      "Iters. done: 91 [Current cost: -2.1672000000000002]\n",
      "Iters. done: 92 [Current cost: -2.1772]\n",
      "Iters. done: 93 [Current cost: -2.1732]\n",
      "Iters. done: 94 [Current cost: -2.1766]\n",
      "Iters. done: 95 [Current cost: -2.1492]\n",
      "Iters. done: 96 [Current cost: -2.1574]\n",
      "Iters. done: 97 [Current cost: -2.1744]\n",
      "Iters. done: 98 [Current cost: -2.1726]\n",
      "Iters. done: 99 [Current cost: -2.1635999999999997]\n",
      "Iters. done: 100 [Current cost: -2.1652]\n",
      "Iters. done: 101 [Current cost: -2.1635999999999997]\n",
      "Iters. done: 102 [Current cost: -2.1566]\n",
      "Iters. done: 103 [Current cost: -2.1506]\n",
      "Iters. done: 104 [Current cost: -2.1572]\n",
      "Iters. done: 105 [Current cost: -2.1572]\n",
      "Iters. done: 106 [Current cost: -2.1688]\n",
      "Iters. done: 107 [Current cost: -2.1496]\n",
      "Iters. done: 108 [Current cost: -2.1776]\n",
      "Iters. done: 109 [Current cost: -2.1722]\n"
     ]
    }
   ],
   "source": [
    "with Session(backend=aer_sim) as session:\n",
    "    estimator = Estimator(mode=session)\n",
    "    #estimator = StatevectorEstimator()\n",
    "    estimator.options.default_shots = 10000\n",
    "\n",
    "    res = minimize(\n",
    "        cost_func,\n",
    "        x0,\n",
    "        args=(ansatz.decompose(), hamiltonian, estimator),\n",
    "        method=\"cobyla\",\n",
    "    )"
   ]
  },
  {
   "cell_type": "code",
   "execution_count": 57,
   "metadata": {},
   "outputs": [
    {
     "name": "stdout",
     "output_type": "stream",
     "text": [
      " message: Optimization terminated successfully.\n",
      " success: True\n",
      "  status: 1\n",
      "     fun: -2.1722\n",
      "       x: [ 4.197e+00  2.560e+00  5.131e+00  1.462e+00  2.225e+00\n",
      "            2.754e+00  2.870e+00  4.093e+00]\n",
      "    nfev: 109\n",
      "   maxcv: 0.0\n"
     ]
    }
   ],
   "source": [
    "print(res)"
   ]
  },
  {
   "cell_type": "markdown",
   "metadata": {},
   "source": [
    "As we can see we have succesfullly reached the minimum energy value through the iterative training in only 109 steps. This values is -2.17. This negative ground state energy clearly indicates that this hamiltonian doesn't represent a real quantum system."
   ]
  },
  {
   "cell_type": "markdown",
   "metadata": {},
   "source": [
    "***"
   ]
  },
  {
   "cell_type": "code",
   "execution_count": 58,
   "metadata": {},
   "outputs": [
    {
     "data": {
      "image/png": "[encoded data removed]",
      "text/plain": [
       "<Figure size 1500x600 with 1 Axes>"
      ]
     },
     "metadata": {},
     "output_type": "display_data"
    }
   ],
   "source": [
    "# Create a figure and axis with specific figure size (width, height)\n",
    "fig, ax = plt.subplots(figsize=(15, 6))  # Adjust the width to 12 and height to 6\n",
    "\n",
    "# Plot your data\n",
    "ax.plot(range(cost_history_dict[\"iters\"]), cost_history_dict[\"cost_history\"])\n",
    "\n",
    "# Set labels\n",
    "ax.set_xlabel(\"Iterations\")\n",
    "ax.set_ylabel(\"Cost\")\n",
    "\n",
    "# Display the plot\n",
    "plt.draw()"
   ]
  },
  {
   "cell_type": "markdown",
   "metadata": {},
   "source": [
    "This represents the plot of the training process, as we can see the energy value rapidly decreases and eventually reaches a steady value of around -2.17\n",
    "***"
   ]
  },
  {
   "cell_type": "code",
   "execution_count": 59,
   "metadata": {},
   "outputs": [],
   "source": [
    "from qiskit_algorithms import NumPyMinimumEigensolver\n",
    "solver = NumPyMinimumEigensolver()\n",
    "result = solver. compute_minimum_eigenvalue(hamiltonian)"
   ]
  },
  {
   "cell_type": "code",
   "execution_count": 60,
   "metadata": {},
   "outputs": [
    {
     "name": "stdout",
     "output_type": "stream",
     "text": [
      "{   'aux_operators_evaluated': None,\n",
      "    'eigenstate': Statevector([ 0.00000000e+00+2.71050543e-18j,\n",
      "              4.66298783e-01+2.42814018e-01j,\n",
      "             -7.54487279e-01-3.92881335e-01j,\n",
      "              7.77156117e-16-1.11022302e-16j],\n",
      "            dims=(2, 2)),\n",
      "    'eigenvalue': np.float64(-2.236067977499788)}\n"
     ]
    }
   ],
   "source": [
    "print(result)"
   ]
  },
  {
   "cell_type": "markdown",
   "metadata": {},
   "source": [
    "Here, I have calculated the actual value of the ground state energy of the given hamiltonian using NumPyMinimumEigensolver and it comes out to be -2.23 which is very close to our ground state energy values which we obtained using QVE. The minor discrepeancy can be removed by using better ansatz as the final value depends a lot on how well is the chosen ansatz. Also we can try to use a different classical optimizer to make sure that we converge at the global minima for that ansatz."
   ]
  }
 ],
 "metadata": {
  "kernelspec": {
   "display_name": "Python 3",
   "language": "python",
   "name": "python3"
  },
  "language_info": {
   "codemirror_mode": {
    "name": "ipython",
    "version": 3
   },
   "file_extension": ".py",
   "mimetype": "text/x-python",
   "name": "python",
   "nbconvert_exporter": "python",
   "pygments_lexer": "ipython3",
   "version": "3.12.5"
  }
 },
 "nbformat": 4,
 "nbformat_minor": 2
}
